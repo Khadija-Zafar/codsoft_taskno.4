{
  "nbformat": 4,
  "nbformat_minor": 0,
  "metadata": {
    "colab": {
      "provenance": [],
      "authorship_tag": "ABX9TyNShehwvtVSLm0wGsRhIw8p",
      "include_colab_link": true
    },
    "kernelspec": {
      "name": "python3",
      "display_name": "Python 3"
    },
    "language_info": {
      "name": "python"
    }
  },
  "cells": [
    {
      "cell_type": "markdown",
      "metadata": {
        "id": "view-in-github",
        "colab_type": "text"
      },
      "source": [
        "<a href=\"https://colab.research.google.com/github/Khadija-Zafar/codsoft_taskno.4/blob/main/Task4.ipynb\" target=\"_parent\"><img src=\"https://colab.research.google.com/assets/colab-badge.svg\" alt=\"Open In Colab\"/></a>"
      ]
    },
    {
      "cell_type": "code",
      "execution_count": null,
      "metadata": {
        "id": "gFot3gsUzSZI",
        "colab": {
          "base_uri": "https://localhost:8080/"
        },
        "outputId": "3fff8036-b2b2-4512-a0bf-d5b4c323b85a"
      },
      "outputs": [
        {
          "output_type": "stream",
          "name": "stdout",
          "text": [
            "\n",
            "Naive Bayes Results:\n",
            "Accuracy: 0.9623318385650225\n",
            "Classification Report:\n",
            "              precision    recall  f1-score   support\n",
            "\n",
            "           0       0.96      1.00      0.98       965\n",
            "           1       1.00      0.72      0.84       150\n",
            "\n",
            "    accuracy                           0.96      1115\n",
            "   macro avg       0.98      0.86      0.91      1115\n",
            "weighted avg       0.96      0.96      0.96      1115\n",
            "\n",
            "\n",
            "Support Vector Machine Results:\n",
            "Accuracy: 0.9829596412556054\n",
            "Classification Report:\n",
            "              precision    recall  f1-score   support\n",
            "\n",
            "           0       0.98      1.00      0.99       965\n",
            "           1       0.99      0.89      0.93       150\n",
            "\n",
            "    accuracy                           0.98      1115\n",
            "   macro avg       0.98      0.94      0.96      1115\n",
            "weighted avg       0.98      0.98      0.98      1115\n",
            "\n"
          ]
        }
      ],
      "source": [
        "import pandas as pd\n",
        "from sklearn.model_selection import train_test_split\n",
        "from sklearn.feature_extraction.text import TfidfVectorizer\n",
        "from sklearn.naive_bayes import MultinomialNB\n",
        "from sklearn.svm import SVC\n",
        "from sklearn.metrics import accuracy_score, classification_report\n",
        "\n",
        "data = pd.read_csv('spam.csv', encoding='latin-1')\n",
        "\n",
        "data = data.rename(columns={\"v1\": \"Target\", \"v2\": \"Text\"})\n",
        "\n",
        "# In the following step we are converting labels to binary (0 for 'ham' and 1 for 'spam')\n",
        "data['Target'] = data['Target'].map({'ham': 0, 'spam': 1})\n",
        "\n",
        "X_train, X_test, y_train, y_test = train_test_split(data['Text'], data['Target'], test_size=0.2, random_state=42)\n",
        "\n",
        "# Now we are vectorizing the text data using TF-IDF\n",
        "tfidf_vectorizer = TfidfVectorizer()\n",
        "X_train_vectorized = tfidf_vectorizer.fit_transform(X_train)\n",
        "X_test_vectorized = tfidf_vectorizer.transform(X_test)\n",
        "\n",
        "# Classifiers\n",
        "classifiers = {\n",
        "    \"Naive Bayes\": MultinomialNB(),\n",
        "    \"Support Vector Machine\": SVC(kernel='linear')\n",
        "}\n",
        "\n",
        "results = {}\n",
        "for clf_name, clf in classifiers.items():\n",
        "    clf.fit(X_train_vectorized, y_train)\n",
        "    y_pred = clf.predict(X_test_vectorized)\n",
        "    accuracy = accuracy_score(y_test, y_pred)\n",
        "    classification_rep = classification_report(y_test, y_pred)\n",
        "    results[clf_name] = {\"Accuracy\": accuracy, \"Classification Report\": classification_rep}\n",
        "\n",
        "for clf_name, result in results.items():\n",
        "    print(f\"\\n{clf_name} Results:\")\n",
        "    print(\"Accuracy:\", result[\"Accuracy\"])\n",
        "    print(\"Classification Report:\")\n",
        "    print(result[\"Classification Report\"])\n"
      ]
    }
  ]
}